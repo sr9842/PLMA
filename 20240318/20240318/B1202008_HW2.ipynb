{
  "nbformat": 4,
  "nbformat_minor": 0,
  "metadata": {
    "colab": {
      "provenance": []
    },
    "kernelspec": {
      "name": "python3",
      "display_name": "Python 3"
    },
    "language_info": {
      "name": "python"
    }
  },
  "cells": [
    {
      "cell_type": "code",
      "execution_count": null,
      "metadata": {
        "colab": {
          "base_uri": "https://localhost:8080/"
        },
        "id": "UJeN1jEPnJDt",
        "outputId": "9af838dd-3733-4f7c-bbe3-ceeef4689d05"
      },
      "outputs": [
        {
          "output_type": "stream",
          "name": "stdout",
          "text": [
            "A\n",
            "['K', 'H', 'U']\n"
          ]
        }
      ],
      "source": [
        "a='C,B,A'\n",
        "b=['F','G','H']\n",
        "c=a.split(\",\")\n",
        "d=c+b\n",
        "d[0]='K'\n",
        "e=d.pop(2)\n",
        "print(e)\n",
        "del d[1:4]\n",
        "d.append('U')\n",
        "print(d)"
      ]
    },
    {
      "cell_type": "code",
      "source": [
        "a=input('請輸入一個八位數字')\n",
        "print(a[4])"
      ],
      "metadata": {
        "id": "gzkrrGu-oOGJ"
      },
      "execution_count": null,
      "outputs": []
    },
    {
      "cell_type": "code",
      "source": [
        "a='My ID is B1202008'\n",
        "b=a.split(' ')\n",
        "c=b[3]\n",
        "print(len(b))\n",
        "print(len(c))"
      ],
      "metadata": {
        "id": "ViCTdYYjs8VU"
      },
      "execution_count": null,
      "outputs": []
    },
    {
      "cell_type": "code",
      "source": [
        "a=\"I'm a student\"\n",
        "b=a.split()\n",
        "print(b[0][2])"
      ],
      "metadata": {
        "id": "WSfPTzEKtR5m"
      },
      "execution_count": null,
      "outputs": []
    }
  ]
}