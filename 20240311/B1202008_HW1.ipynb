{
  "nbformat": 4,
  "nbformat_minor": 0,
  "metadata": {
    "colab": {
      "provenance": []
    },
    "kernelspec": {
      "name": "python3",
      "display_name": "Python 3"
    },
    "language_info": {
      "name": "python"
    }
  },
  "cells": [
    {
      "cell_type": "code",
      "execution_count": 1,
      "metadata": {
        "id": "8yLKsi4WpsEB",
        "colab": {
          "base_uri": "https://localhost:8080/"
        },
        "outputId": "d4b2d392-c1cf-4257-feb1-6be14292251e"
      },
      "outputs": [
        {
          "output_type": "stream",
          "name": "stdout",
          "text": [
            "I'm a student\n"
          ]
        }
      ],
      "source": [
        "a=\"I'm a student\"\n",
        "print(a)"
      ]
    },
    {
      "cell_type": "code",
      "source": [
        "a=float(input(\"輸入x1:\"))\n",
        "b=float(input(\"輸入y1:\"))\n",
        "c=float(input(\"輸入x2:\"))\n",
        "d=float(input(\"輸入y2:\"))\n",
        "print('AB的距離是',(((a-c)**2+(b-d)**2)**0.5))"
      ],
      "metadata": {
        "colab": {
          "base_uri": "https://localhost:8080/"
        },
        "id": "wcXC6Y6L15-W",
        "outputId": "b9b3fe6a-da1f-4ab2-ed86-1a28261b5ef1"
      },
      "execution_count": 3,
      "outputs": [
        {
          "output_type": "stream",
          "name": "stdout",
          "text": [
            "輸入x1:2\n",
            "輸入y1:3\n",
            "輸入x2:4\n",
            "輸入y2:5\n",
            "AB的距離是 2.8284271247461903\n"
          ]
        }
      ]
    },
    {
      "cell_type": "code",
      "source": [
        "a=float(input(\"輸入身高(公分)\"))\n",
        "b=float(input(\"輸入體重(公斤)\"))\n",
        "a/=100\n",
        "b/=a\n",
        "b/=a\n",
        "print(\"BMI=\",b)"
      ],
      "metadata": {
        "colab": {
          "base_uri": "https://localhost:8080/"
        },
        "id": "-mxw-ImZ2xOf",
        "outputId": "10394764-8f94-49de-9e21-f921d2744372"
      },
      "execution_count": 4,
      "outputs": [
        {
          "output_type": "stream",
          "name": "stdout",
          "text": [
            "輸入身高(公分)168\n",
            "輸入體重(公斤)53\n",
            "BMI= 18.778344671201815\n"
          ]
        }
      ]
    }
  ]
}