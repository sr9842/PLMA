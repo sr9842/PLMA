{
  "nbformat": 4,
  "nbformat_minor": 0,
  "metadata": {
    "colab": {
      "provenance": []
    },
    "kernelspec": {
      "name": "python3",
      "display_name": "Python 3"
    },
    "language_info": {
      "name": "python"
    }
  },
  "cells": [
    {
      "cell_type": "code",
      "execution_count": null,
      "metadata": {
        "colab": {
          "base_uri": "https://localhost:8080/"
        },
        "id": "bl87AVgQd8x8",
        "outputId": "b7695aa7-fe4a-4208-a730-5452b76e99d1"
      },
      "outputs": [
        {
          "output_type": "stream",
          "name": "stdout",
          "text": [
            "Ans is 11.11111111111111\n"
          ]
        }
      ],
      "source": [
        "\n",
        "y=4\n",
        "a=2*y+1\n",
        "z=100/a\n",
        "print(\"Ans is\",z)"
      ]
    }
  ]
}