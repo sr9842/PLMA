{
  "nbformat": 4,
  "nbformat_minor": 0,
  "metadata": {
    "colab": {
      "provenance": []
    },
    "kernelspec": {
      "name": "python3",
      "display_name": "Python 3"
    },
    "language_info": {
      "name": "python"
    }
  },
  "cells": [
    {
      "cell_type": "code",
      "execution_count": 8,
      "metadata": {
        "id": "bv9Yvwgcj5mX",
        "colab": {
          "base_uri": "https://localhost:8080/"
        },
        "outputId": "e1a6f92c-75c7-4f8e-fb21-0c2e81fa7df0"
      },
      "outputs": [
        {
          "output_type": "stream",
          "name": "stdout",
          "text": [
            "請輸入身高(cm)：168\n",
            "請輸入體重(kg)：54\n",
            "BMI：19.13265306122449\n",
            "體位:適中\n"
          ]
        }
      ],
      "source": [
        "a=float(input('請輸入身高(cm)：'))/100\n",
        "b=float(input('請輸入體重(kg)：'))\n",
        "bmi = b/(a*a)\n",
        "print(f'BMI：{bmi}')\n",
        "if bmi<18.5:\n",
        "  pint('體位;過輕')\n",
        "elif bmi>=18.5 and bmi<=25:\n",
        "  print('體位:適中')\n",
        "elif bmi>=24 and bmi<=27:\n",
        "  print('體位:過重')\n",
        "else:\n",
        "  print('體位:肥胖')\n"
      ]
    },
    {
      "cell_type": "code",
      "source": [
        "a=float(input('請輸入第一個數字:'))\n",
        "b=input('請輸入運算符號:')\n",
        "c=float(input('請輸入第二個數字:'))\n",
        "if b=='+':\n",
        "  print(a+c)\n",
        "elif b=='-':\n",
        "  print(a-c)\n",
        "elif b=='*':\n",
        "  print(a*c)\n",
        "elif b=='/':\n",
        "  print(a/c)\n"
      ],
      "metadata": {
        "colab": {
          "base_uri": "https://localhost:8080/"
        },
        "id": "AVUujDdBm3iy",
        "outputId": "1501a8ff-128e-4fde-a795-8a1f6321cee6"
      },
      "execution_count": 14,
      "outputs": [
        {
          "name": "stdout",
          "output_type": "stream",
          "text": [
            "請輸入第一個數字:1\n",
            "請輸入運算符號:=\n",
            "請輸入第二個數字:2\n"
          ]
        }
      ]
    }
  ]
}